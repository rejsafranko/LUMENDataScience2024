{
 "cells": [
  {
   "cell_type": "code",
   "execution_count": 1,
   "metadata": {},
   "outputs": [],
   "source": [
    "import warnings\n",
    "warnings.filterwarnings('ignore')\n",
    "\n",
    "import pycountry\n",
    "import pickle\n",
    "import folium\n",
    "import pandas as pd\n",
    "import numpy as np\n",
    "import matplotlib.pyplot as plt\n",
    "import plotly.express as px\n",
    "import seaborn as sns\n",
    "import missingno as msno\n",
    "\n",
    "from joblib import dump, load\n",
    "from sklearn.model_selection import train_test_split, GridSearchCV\n",
    "from sklearn.preprocessing import StandardScaler\n",
    "from sklearn.metrics import accuracy_score, confusion_matrix, classification_report\n",
    "from sklearn.ensemble import RandomForestClassifier\n",
    "from sklearn.impute import KNNImputer\n",
    "from sklearn.preprocessing import LabelEncoder\n",
    "from folium.plugins import HeatMap\n",
    "\n",
    "from sklearn.ensemble import RandomForestRegressor\n",
    "from sklearn.model_selection import train_test_split\n",
    "from sklearn.metrics import mean_squared_error"
   ]
  },
  {
   "cell_type": "code",
   "execution_count": 2,
   "metadata": {},
   "outputs": [],
   "source": [
    "dataset_path = './data/lumen/train.parquet'\n",
    "df = pd.read_parquet(dataset_path)"
   ]
  },
  {
   "cell_type": "code",
   "execution_count": 3,
   "metadata": {},
   "outputs": [],
   "source": [
    "date_columns = ['stay_date', 'reservation_date', 'date_from', 'date_to', 'cancel_date']\n",
    "\n",
    "for column in date_columns:\n",
    "    df[column] = pd.to_datetime(df[column], errors='coerce')"
   ]
  },
  {
   "cell_type": "code",
   "execution_count": 4,
   "metadata": {},
   "outputs": [],
   "source": [
    "tax_columns = [col for col in df.columns if 'tax' in col]\n",
    "df.drop(tax_columns, axis=1, inplace=True)"
   ]
  },
  {
   "cell_type": "code",
   "execution_count": 5,
   "metadata": {},
   "outputs": [],
   "source": [
    "knn_imputer = KNNImputer(n_neighbors=5)\n",
    "columns_to_impute = ['price', 'total_price', 'food_price', 'other_price']\n",
    "df[columns_to_impute] = knn_imputer.fit_transform(df[columns_to_impute])"
   ]
  },
  {
   "cell_type": "code",
   "execution_count": 6,
   "metadata": {},
   "outputs": [],
   "source": [
    "filter = (df.children_cnt == 0) & (df.adult_cnt == 0)\n",
    "df = df[~filter]\n",
    "df = df[~(df['reservation_date'] > df['date_from'])]\n",
    "df = df[~(df['date_from'] < df['cancel_date'])]"
   ]
  },
  {
   "cell_type": "code",
   "execution_count": 7,
   "metadata": {},
   "outputs": [],
   "source": [
    "# Extract day of the week (Monday=0, Sunday=6)\n",
    "df['stay_day_of_week'] = df['stay_date'].dt.dayofweek\n",
    "# Extract month\n",
    "df['stay_month'] = df['stay_date'].dt.month\n",
    "# Extract year\n",
    "df['stay_year'] = df['stay_date'].dt.year\n",
    "# Extract day of the month\n",
    "df['stay_day_of_month'] = df['stay_date'].dt.day\n",
    "# Check if it's a weekend day (Saturday or Sunday)\n",
    "df['stay_is_weekend'] = df['stay_date'].dt.dayofweek > 4\n",
    "# Quarter of the year\n",
    "df['stay_quarter'] = df['stay_date'].dt.quarter\n",
    "# Week of the year\n",
    "df['stay_week_of_year'] = df['stay_date'].dt.isocalendar().week"
   ]
  },
  {
   "cell_type": "code",
   "execution_count": 8,
   "metadata": {},
   "outputs": [],
   "source": [
    "le = LabelEncoder()\n",
    "\n",
    "df['guest_country_id_encoded'] = le.fit_transform(df['guest_country_id'])\n",
    "df['reservation_status_encoded'] = le.fit_transform(df['reservation_status'])\n",
    "df = df.drop(columns=['guest_country_id', 'reservation_status', 'resort_id'])"
   ]
  },
  {
   "cell_type": "code",
   "execution_count": 9,
   "metadata": {},
   "outputs": [],
   "source": [
    "df['lead_time'] = (df['date_from'] - df['reservation_date']).dt.days\n",
    "df['total_guests'] = df['children_cnt'] + df['adult_cnt']"
   ]
  },
  {
   "cell_type": "code",
   "execution_count": 10,
   "metadata": {},
   "outputs": [],
   "source": [
    "useless_col = ['adult_cnt', 'stay_year', 'children_cnt', 'food_price', 'other_price', 'price', 'reservation_id', 'guest_id']\n",
    "df.drop(useless_col, axis = 1, inplace = True)"
   ]
  },
  {
   "cell_type": "code",
   "execution_count": 11,
   "metadata": {},
   "outputs": [],
   "source": [
    "df['reservation_status_encoded'] = df['reservation_status_encoded'].apply(lambda x: 0 if x in [0, 2] else x)"
   ]
  },
  {
   "cell_type": "code",
   "execution_count": 12,
   "metadata": {},
   "outputs": [],
   "source": [
    "df['stay_is_weekend'] = df['stay_is_weekend'].astype(int)"
   ]
  },
  {
   "cell_type": "code",
   "execution_count": 13,
   "metadata": {},
   "outputs": [],
   "source": [
    "filtered_df = df[df['reservation_status_encoded'] == 1]"
   ]
  },
  {
   "cell_type": "code",
   "execution_count": 14,
   "metadata": {},
   "outputs": [],
   "source": [
    "aggregations = {\n",
    "    'room_cnt': [\n",
    "        ('total_rooms', 'sum'),\n",
    "        ('rooms_reserved_that_day', lambda x: (filtered_df.loc[x.index, 'reservation_date'] == filtered_df.loc[x.index, 'stay_date']).sum())\n",
    "    ],\n",
    "    'total_price': [('average_room_price','mean')],\n",
    "    'lead_time': [('average_lead_time','mean')],\n",
    "    'room_category_id': [('room_category', lambda x: x.mode()[0] if not x.mode().empty else None)],\n",
    "    'sales_channel_id': [('sales_channel_mode', lambda x: x.mode()[0] if not x.mode().empty else None)],\n",
    "    'stay_day_of_week': [('stay_day_of_week', 'min')],\n",
    "    'stay_month': [('stay_of_month', 'min')],\n",
    "    'stay_day_of_month': [('stay_day_of_month', 'min')],\n",
    "    'stay_is_weekend': [('stay_is_weekend', 'min')],\n",
    "    'stay_quarter': [('stay_quarter', 'min')],\n",
    "    'stay_week_of_year': [('stay_week_of_year', 'min')],\n",
    "}\n",
    "\n",
    "grouped = filtered_df.groupby('stay_date').agg(aggregations)\n",
    "grouped.columns = grouped.columns.droplevel(0)"
   ]
  },
  {
   "cell_type": "code",
   "execution_count": 15,
   "metadata": {},
   "outputs": [],
   "source": [
    "grouped = grouped.sort_index()\n",
    "\n",
    "for col in ['rooms_reserved_that_day', 'total_rooms', 'average_room_price', 'average_lead_time', 'room_category', 'sales_channel_mode']:\n",
    "    grouped[f'{col}_lag1'] = grouped[col].shift(1)"
   ]
  },
  {
   "cell_type": "code",
   "execution_count": 16,
   "metadata": {},
   "outputs": [],
   "source": [
    "grouped = grouped.reset_index()\n",
    "grouped.rename(columns={'index': 'stay_date'}, inplace=True)"
   ]
  },
  {
   "cell_type": "code",
   "execution_count": 17,
   "metadata": {},
   "outputs": [],
   "source": [
    "train_data = grouped[grouped['stay_date'] < '2009-03-01']\n",
    "test_data = grouped[grouped['stay_date'] >= '2009-03-01']"
   ]
  },
  {
   "cell_type": "code",
   "execution_count": 18,
   "metadata": {},
   "outputs": [],
   "source": [
    "selected_features = ['stay_day_of_week', 'total_rooms_lag1', 'stay_is_weekend', 'stay_week_of_year', 'rooms_reserved_that_day_lag1']\n",
    "\n",
    "X_train = train_data[selected_features]\n",
    "y_train = train_data['rooms_reserved_that_day']\n",
    "\n",
    "X_test = test_data[selected_features]\n",
    "y_test = test_data['rooms_reserved_that_day']\n",
    "\n",
    "test_dates = test_data['stay_date']"
   ]
  },
  {
   "cell_type": "code",
   "execution_count": 19,
   "metadata": {},
   "outputs": [
    {
     "name": "stdout",
     "output_type": "stream",
     "text": [
      "     stay_date  predicted_number_of_rooms_that_day\n",
      "427 2009-03-01                            4.741856\n",
      "428 2009-03-02                            3.593567\n",
      "429 2009-03-03                            5.668286\n",
      "430 2009-03-04                            7.482438\n",
      "431 2009-03-05                            7.532631\n"
     ]
    }
   ],
   "source": [
    "model = RandomForestRegressor(n_estimators=700, max_depth=6, min_samples_leaf=2, random_state=42)\n",
    "model.fit(X_train, y_train)\n",
    "\n",
    "dump(model, 'random_forest_regressor.joblib')\n",
    "\n",
    "predictions = model.predict(X_test)\n",
    "\n",
    "predicted_rooms_df = pd.DataFrame({\n",
    "    'stay_date': test_dates,  # Reattach the saved stay_date here\n",
    "    'predicted_number_of_rooms_that_day': predictions\n",
    "})\n",
    "predicted_rooms_df.sort_values(by='stay_date', inplace=True)\n",
    "print(predicted_rooms_df.head())"
   ]
  },
  {
   "cell_type": "code",
   "execution_count": 20,
   "metadata": {},
   "outputs": [
    {
     "name": "stdout",
     "output_type": "stream",
     "text": [
      "Root Mean Squared Error: 2.9410512965429825\n"
     ]
    }
   ],
   "source": [
    "rmse = mean_squared_error(y_test, predictions, squared=False)\n",
    "print(\"Root Mean Squared Error:\", rmse)"
   ]
  },
  {
   "cell_type": "code",
   "execution_count": 21,
   "metadata": {},
   "outputs": [],
   "source": [
    "results_df = pd.DataFrame({\n",
    "    'Actual': y_test,\n",
    "    'Predicted': predictions\n",
    "})\n",
    "\n",
    "def safe_mean_absolute_percentage_error(actual, predicted):\n",
    "    actual, predicted = np.array(actual), np.array(predicted)\n",
    "    non_zero_actual = actual != 0  # Create a mask for non-zero actual values\n",
    "    actual_filtered = actual[non_zero_actual]\n",
    "    predicted_filtered = predicted[non_zero_actual]\n",
    "    return np.mean(np.abs((actual_filtered - predicted_filtered) / actual_filtered)) * 100"
   ]
  },
  {
   "cell_type": "code",
   "execution_count": 22,
   "metadata": {},
   "outputs": [
    {
     "name": "stdout",
     "output_type": "stream",
     "text": [
      "Safe Mean Absolute Percentage Error (MAPE): 63.20%\n"
     ]
    }
   ],
   "source": [
    "safe_mape = safe_mean_absolute_percentage_error(results_df['Actual'], results_df['Predicted'])\n",
    "print(f\"Safe Mean Absolute Percentage Error (MAPE): {safe_mape:.2f}%\")"
   ]
  },
  {
   "cell_type": "code",
   "execution_count": 23,
   "metadata": {},
   "outputs": [
    {
     "name": "stdout",
     "output_type": "stream",
     "text": [
      "Estimated standard deviation of the prediction errors (sigma): 2.930418955558022\n"
     ]
    }
   ],
   "source": [
    "residuals = y_test - predictions\n",
    "\n",
    "sigma = np.std(residuals)\n",
    "\n",
    "print(\"Estimated standard deviation of the prediction errors (sigma):\", sigma)"
   ]
  }
 ],
 "metadata": {
  "kaggle": {
   "accelerator": "none",
   "dataSources": [
    {
     "datasetId": 511638,
     "sourceId": 944030,
     "sourceType": "datasetVersion"
    }
   ],
   "dockerImageVersionId": 30096,
   "isGpuEnabled": false,
   "isInternetEnabled": false,
   "language": "python",
   "sourceType": "notebook"
  },
  "kernelspec": {
   "display_name": "Python 3 (ipykernel)",
   "language": "python",
   "name": "python3"
  },
  "language_info": {
   "codemirror_mode": {
    "name": "ipython",
    "version": 3
   },
   "file_extension": ".py",
   "mimetype": "text/x-python",
   "name": "python",
   "nbconvert_exporter": "python",
   "pygments_lexer": "ipython3",
   "version": "3.9.18"
  }
 },
 "nbformat": 4,
 "nbformat_minor": 4
}
